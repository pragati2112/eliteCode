{
 "cells": [
  {
   "cell_type": "code",
   "execution_count": 5,
   "id": "36bea934",
   "metadata": {},
   "outputs": [],
   "source": [
    "encoder = [0]*26\n",
    "decoder = [0]*26\n",
    "\n",
    "for k in range(26):\n",
    "    encoder[k] = chr((k + 3) % 26 + ord( 'A'))\n",
    "    decoder[k] = chr((k-3) % 26 + ord( 'A' ))"
   ]
  },
  {
   "cell_type": "code",
   "execution_count": 11,
   "id": "0a35486d",
   "metadata": {},
   "outputs": [
    {
     "name": "stdout",
     "output_type": "stream",
     "text": [
      "['D', 'E', 'F', 'G', 'H', 'I', 'J', 'K', 'L', 'M', 'N', 'O', 'P', 'Q', 'R', 'S', 'T', 'U', 'V', 'W', 'X', 'Y', 'Z', 'A', 'B', 'C']\n",
      "['X', 'Y', 'Z', 'A', 'B', 'C', 'D', 'E', 'F', 'G', 'H', 'I', 'J', 'K', 'L', 'M', 'N', 'O', 'P', 'Q', 'R', 'S', 'T', 'U', 'V', 'W']\n"
     ]
    }
   ],
   "source": [
    "print(encoder)\n",
    "print(decoder)"
   ]
  },
  {
   "cell_type": "code",
   "execution_count": 8,
   "id": "d66c6b90",
   "metadata": {},
   "outputs": [
    {
     "data": {
      "text/plain": [
       "68"
      ]
     },
     "execution_count": 8,
     "metadata": {},
     "output_type": "execute_result"
    }
   ],
   "source": [
    "ord(\"D\")"
   ]
  },
  {
   "cell_type": "code",
   "execution_count": 9,
   "id": "1e3e2ad3",
   "metadata": {},
   "outputs": [
    {
     "data": {
      "text/plain": [
       "3"
      ]
     },
     "execution_count": 9,
     "metadata": {},
     "output_type": "execute_result"
    }
   ],
   "source": [
    "ord('D')-ord(\"A\")"
   ]
  },
  {
   "cell_type": "code",
   "execution_count": 12,
   "id": "2c11fdea",
   "metadata": {},
   "outputs": [],
   "source": [
    "l = [2,4,6]*2"
   ]
  },
  {
   "cell_type": "code",
   "execution_count": 13,
   "id": "c3c4b65c",
   "metadata": {},
   "outputs": [
    {
     "data": {
      "text/plain": [
       "[2, 4, 6, 2, 4, 6]"
      ]
     },
     "execution_count": 13,
     "metadata": {},
     "output_type": "execute_result"
    }
   ],
   "source": [
    "l"
   ]
  },
  {
   "cell_type": "code",
   "execution_count": null,
   "id": "e605b4a4",
   "metadata": {},
   "outputs": [],
   "source": []
  }
 ],
 "metadata": {
  "kernelspec": {
   "display_name": "Python 3 (ipykernel)",
   "language": "python",
   "name": "python3"
  },
  "language_info": {
   "codemirror_mode": {
    "name": "ipython",
    "version": 3
   },
   "file_extension": ".py",
   "mimetype": "text/x-python",
   "name": "python",
   "nbconvert_exporter": "python",
   "pygments_lexer": "ipython3",
   "version": "3.8.9"
  }
 },
 "nbformat": 4,
 "nbformat_minor": 5
}
