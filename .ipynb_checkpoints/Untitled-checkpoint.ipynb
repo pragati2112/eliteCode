{
 "cells": [
  {
   "cell_type": "code",
   "execution_count": 1,
   "id": "a8214f6a",
   "metadata": {},
   "outputs": [
    {
     "ename": "SyntaxError",
     "evalue": "invalid character in identifier (1043120766.py, line 3)",
     "output_type": "error",
     "traceback": [
      "\u001b[1;36m  Input \u001b[1;32mIn [1]\u001b[1;36m\u001b[0m\n\u001b[1;33m    decoder[k] = chr((k − 3) % 26 + ord( A ))\u001b[0m\n\u001b[1;37m                        ^\u001b[0m\n\u001b[1;31mSyntaxError\u001b[0m\u001b[1;31m:\u001b[0m invalid character in identifier\n"
     ]
    }
   ],
   "source": [
    "for k in range(26):\n",
    "    encoder[k] = chr((k + 3) % 26 + ord( A ))\n",
    "    decoder[k] = chr((k-3) % 26 + ord( A ))"
   ]
  },
  {
   "cell_type": "code",
   "execution_count": null,
   "id": "42a86a3f",
   "metadata": {},
   "outputs": [],
   "source": []
  }
 ],
 "metadata": {
  "kernelspec": {
   "display_name": "Python 3 (ipykernel)",
   "language": "python",
   "name": "python3"
  },
  "language_info": {
   "codemirror_mode": {
    "name": "ipython",
    "version": 3
   },
   "file_extension": ".py",
   "mimetype": "text/x-python",
   "name": "python",
   "nbconvert_exporter": "python",
   "pygments_lexer": "ipython3",
   "version": "3.8.9"
  }
 },
 "nbformat": 4,
 "nbformat_minor": 5
}
